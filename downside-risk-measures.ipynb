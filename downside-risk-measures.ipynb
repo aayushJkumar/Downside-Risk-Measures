{
 "cells": [
  {
   "cell_type": "markdown",
   "execution_count": null,
   "metadata": {},
   "source": [
    "# Calculating downside risk measures"
   ]
  },
  {
   "cell_type": "code",
   "execution_count": 1,
   "metadata": {
    "_cell_guid": "79c7e3d0-c299-4dcb-8224-4455121ee9b0",
    "_uuid": "d629ff2d2480ee46fbb7e2d37f6b5fab8052498a"
   },
   "outputs": [],
   "source": [
    "# Import libraries \n",
    "import pandas as pd \n",
    "import numpy as np \n",
    "\n",
    "import matplotlib.pyplot as plt \n",
    "import seaborn as sns"
   ]
  },
  {
   "cell_type": "code",
   "execution_count": 2,
   "metadata": {},
   "outputs": [
    {
     "data": {
      "text/plain": [
       "(263, 13)"
      ]
     },
     "execution_count": 2,
     "metadata": {},
     "output_type": "execute_result"
    }
   ],
   "source": [
    "# Load the data\n",
    "hfi_data = pd.read_csv('../input/python/edhec-hedgefundindices.csv',\n",
    "                           header=0, index_col=0, parse_dates=True)\n",
    "hfi_data.shape"
   ]
  },
  {
   "cell_type": "code",
   "execution_count": 3,
   "metadata": {},
   "outputs": [
    {
     "data": {
      "text/html": [
       "<div>\n",
       "<style scoped>\n",
       "    .dataframe tbody tr th:only-of-type {\n",
       "        vertical-align: middle;\n",
       "    }\n",
       "\n",
       "    .dataframe tbody tr th {\n",
       "        vertical-align: top;\n",
       "    }\n",
       "\n",
       "    .dataframe thead th {\n",
       "        text-align: right;\n",
       "    }\n",
       "</style>\n",
       "<table border=\"1\" class=\"dataframe\">\n",
       "  <thead>\n",
       "    <tr style=\"text-align: right;\">\n",
       "      <th></th>\n",
       "      <th>Convertible Arbitrage</th>\n",
       "      <th>CTA Global</th>\n",
       "      <th>Distressed Securities</th>\n",
       "      <th>Emerging Markets</th>\n",
       "      <th>Equity Market Neutral</th>\n",
       "      <th>Event Driven</th>\n",
       "      <th>Fixed Income Arbitrage</th>\n",
       "      <th>Global Macro</th>\n",
       "      <th>Long/Short Equity</th>\n",
       "      <th>Merger Arbitrage</th>\n",
       "      <th>Relative Value</th>\n",
       "      <th>Short Selling</th>\n",
       "      <th>Funds Of Funds</th>\n",
       "    </tr>\n",
       "    <tr>\n",
       "      <th>date</th>\n",
       "      <th></th>\n",
       "      <th></th>\n",
       "      <th></th>\n",
       "      <th></th>\n",
       "      <th></th>\n",
       "      <th></th>\n",
       "      <th></th>\n",
       "      <th></th>\n",
       "      <th></th>\n",
       "      <th></th>\n",
       "      <th></th>\n",
       "      <th></th>\n",
       "      <th></th>\n",
       "    </tr>\n",
       "  </thead>\n",
       "  <tbody>\n",
       "    <tr>\n",
       "      <th>1997-01-31</th>\n",
       "      <td>1.19</td>\n",
       "      <td>3.93</td>\n",
       "      <td>1.78</td>\n",
       "      <td>7.91</td>\n",
       "      <td>1.89</td>\n",
       "      <td>2.13</td>\n",
       "      <td>1.91</td>\n",
       "      <td>5.73</td>\n",
       "      <td>2.81</td>\n",
       "      <td>1.50</td>\n",
       "      <td>1.80</td>\n",
       "      <td>-1.66</td>\n",
       "      <td>3.17</td>\n",
       "    </tr>\n",
       "    <tr>\n",
       "      <th>1997-02-28</th>\n",
       "      <td>1.23</td>\n",
       "      <td>2.98</td>\n",
       "      <td>1.22</td>\n",
       "      <td>5.25</td>\n",
       "      <td>1.01</td>\n",
       "      <td>0.84</td>\n",
       "      <td>1.22</td>\n",
       "      <td>1.75</td>\n",
       "      <td>-0.06</td>\n",
       "      <td>0.34</td>\n",
       "      <td>1.18</td>\n",
       "      <td>4.26</td>\n",
       "      <td>1.06</td>\n",
       "    </tr>\n",
       "    <tr>\n",
       "      <th>1997-03-31</th>\n",
       "      <td>0.78</td>\n",
       "      <td>-0.21</td>\n",
       "      <td>-0.12</td>\n",
       "      <td>-1.20</td>\n",
       "      <td>0.16</td>\n",
       "      <td>-0.23</td>\n",
       "      <td>1.09</td>\n",
       "      <td>-1.19</td>\n",
       "      <td>-0.84</td>\n",
       "      <td>0.60</td>\n",
       "      <td>0.10</td>\n",
       "      <td>7.78</td>\n",
       "      <td>-0.77</td>\n",
       "    </tr>\n",
       "    <tr>\n",
       "      <th>1997-04-30</th>\n",
       "      <td>0.86</td>\n",
       "      <td>-1.70</td>\n",
       "      <td>0.30</td>\n",
       "      <td>1.19</td>\n",
       "      <td>1.19</td>\n",
       "      <td>-0.05</td>\n",
       "      <td>1.30</td>\n",
       "      <td>1.72</td>\n",
       "      <td>0.84</td>\n",
       "      <td>-0.01</td>\n",
       "      <td>1.22</td>\n",
       "      <td>-1.29</td>\n",
       "      <td>0.09</td>\n",
       "    </tr>\n",
       "    <tr>\n",
       "      <th>1997-05-31</th>\n",
       "      <td>1.56</td>\n",
       "      <td>-0.15</td>\n",
       "      <td>2.33</td>\n",
       "      <td>3.15</td>\n",
       "      <td>1.89</td>\n",
       "      <td>3.46</td>\n",
       "      <td>1.18</td>\n",
       "      <td>1.08</td>\n",
       "      <td>3.94</td>\n",
       "      <td>1.97</td>\n",
       "      <td>1.73</td>\n",
       "      <td>-7.37</td>\n",
       "      <td>2.75</td>\n",
       "    </tr>\n",
       "  </tbody>\n",
       "</table>\n",
       "</div>"
      ],
      "text/plain": [
       "            Convertible Arbitrage  CTA Global  Distressed Securities  \\\n",
       "date                                                                   \n",
       "1997-01-31                   1.19        3.93                   1.78   \n",
       "1997-02-28                   1.23        2.98                   1.22   \n",
       "1997-03-31                   0.78       -0.21                  -0.12   \n",
       "1997-04-30                   0.86       -1.70                   0.30   \n",
       "1997-05-31                   1.56       -0.15                   2.33   \n",
       "\n",
       "            Emerging Markets  Equity Market Neutral  Event Driven  \\\n",
       "date                                                                \n",
       "1997-01-31              7.91                   1.89          2.13   \n",
       "1997-02-28              5.25                   1.01          0.84   \n",
       "1997-03-31             -1.20                   0.16         -0.23   \n",
       "1997-04-30              1.19                   1.19         -0.05   \n",
       "1997-05-31              3.15                   1.89          3.46   \n",
       "\n",
       "            Fixed Income Arbitrage  Global Macro  Long/Short Equity  \\\n",
       "date                                                                  \n",
       "1997-01-31                    1.91          5.73               2.81   \n",
       "1997-02-28                    1.22          1.75              -0.06   \n",
       "1997-03-31                    1.09         -1.19              -0.84   \n",
       "1997-04-30                    1.30          1.72               0.84   \n",
       "1997-05-31                    1.18          1.08               3.94   \n",
       "\n",
       "            Merger Arbitrage  Relative Value  Short Selling  Funds Of Funds  \n",
       "date                                                                         \n",
       "1997-01-31              1.50            1.80          -1.66            3.17  \n",
       "1997-02-28              0.34            1.18           4.26            1.06  \n",
       "1997-03-31              0.60            0.10           7.78           -0.77  \n",
       "1997-04-30             -0.01            1.22          -1.29            0.09  \n",
       "1997-05-31              1.97            1.73          -7.37            2.75  "
      ]
     },
     "execution_count": 3,
     "metadata": {},
     "output_type": "execute_result"
    }
   ],
   "source": [
    "hfi_data.head()"
   ]
  },
  {
   "cell_type": "markdown",
   "execution_count": null,
   "metadata": {},
   "source": [
    "## Preprocessing"
   ]
  },
  {
   "cell_type": "code",
   "execution_count": 4,
   "metadata": {},
   "outputs": [
    {
     "data": {
      "text/html": [
       "<div>\n",
       "<style scoped>\n",
       "    .dataframe tbody tr th:only-of-type {\n",
       "        vertical-align: middle;\n",
       "    }\n",
       "\n",
       "    .dataframe tbody tr th {\n",
       "        vertical-align: top;\n",
       "    }\n",
       "\n",
       "    .dataframe thead th {\n",
       "        text-align: right;\n",
       "    }\n",
       "</style>\n",
       "<table border=\"1\" class=\"dataframe\">\n",
       "  <thead>\n",
       "    <tr style=\"text-align: right;\">\n",
       "      <th></th>\n",
       "      <th>Convertible Arbitrage</th>\n",
       "      <th>CTA Global</th>\n",
       "      <th>Distressed Securities</th>\n",
       "      <th>Emerging Markets</th>\n",
       "      <th>Equity Market Neutral</th>\n",
       "      <th>Event Driven</th>\n",
       "      <th>Fixed Income Arbitrage</th>\n",
       "      <th>Global Macro</th>\n",
       "      <th>Long/Short Equity</th>\n",
       "      <th>Merger Arbitrage</th>\n",
       "      <th>Relative Value</th>\n",
       "      <th>Short Selling</th>\n",
       "      <th>Funds Of Funds</th>\n",
       "    </tr>\n",
       "    <tr>\n",
       "      <th>date</th>\n",
       "      <th></th>\n",
       "      <th></th>\n",
       "      <th></th>\n",
       "      <th></th>\n",
       "      <th></th>\n",
       "      <th></th>\n",
       "      <th></th>\n",
       "      <th></th>\n",
       "      <th></th>\n",
       "      <th></th>\n",
       "      <th></th>\n",
       "      <th></th>\n",
       "      <th></th>\n",
       "    </tr>\n",
       "  </thead>\n",
       "  <tbody>\n",
       "    <tr>\n",
       "      <th>1997-01</th>\n",
       "      <td>0.0119</td>\n",
       "      <td>0.0393</td>\n",
       "      <td>0.0178</td>\n",
       "      <td>0.0791</td>\n",
       "      <td>0.0189</td>\n",
       "      <td>0.0213</td>\n",
       "      <td>0.0191</td>\n",
       "      <td>0.0573</td>\n",
       "      <td>0.0281</td>\n",
       "      <td>0.0150</td>\n",
       "      <td>0.0180</td>\n",
       "      <td>-0.0166</td>\n",
       "      <td>0.0317</td>\n",
       "    </tr>\n",
       "    <tr>\n",
       "      <th>1997-02</th>\n",
       "      <td>0.0123</td>\n",
       "      <td>0.0298</td>\n",
       "      <td>0.0122</td>\n",
       "      <td>0.0525</td>\n",
       "      <td>0.0101</td>\n",
       "      <td>0.0084</td>\n",
       "      <td>0.0122</td>\n",
       "      <td>0.0175</td>\n",
       "      <td>-0.0006</td>\n",
       "      <td>0.0034</td>\n",
       "      <td>0.0118</td>\n",
       "      <td>0.0426</td>\n",
       "      <td>0.0106</td>\n",
       "    </tr>\n",
       "    <tr>\n",
       "      <th>1997-03</th>\n",
       "      <td>0.0078</td>\n",
       "      <td>-0.0021</td>\n",
       "      <td>-0.0012</td>\n",
       "      <td>-0.0120</td>\n",
       "      <td>0.0016</td>\n",
       "      <td>-0.0023</td>\n",
       "      <td>0.0109</td>\n",
       "      <td>-0.0119</td>\n",
       "      <td>-0.0084</td>\n",
       "      <td>0.0060</td>\n",
       "      <td>0.0010</td>\n",
       "      <td>0.0778</td>\n",
       "      <td>-0.0077</td>\n",
       "    </tr>\n",
       "    <tr>\n",
       "      <th>1997-04</th>\n",
       "      <td>0.0086</td>\n",
       "      <td>-0.0170</td>\n",
       "      <td>0.0030</td>\n",
       "      <td>0.0119</td>\n",
       "      <td>0.0119</td>\n",
       "      <td>-0.0005</td>\n",
       "      <td>0.0130</td>\n",
       "      <td>0.0172</td>\n",
       "      <td>0.0084</td>\n",
       "      <td>-0.0001</td>\n",
       "      <td>0.0122</td>\n",
       "      <td>-0.0129</td>\n",
       "      <td>0.0009</td>\n",
       "    </tr>\n",
       "    <tr>\n",
       "      <th>1997-05</th>\n",
       "      <td>0.0156</td>\n",
       "      <td>-0.0015</td>\n",
       "      <td>0.0233</td>\n",
       "      <td>0.0315</td>\n",
       "      <td>0.0189</td>\n",
       "      <td>0.0346</td>\n",
       "      <td>0.0118</td>\n",
       "      <td>0.0108</td>\n",
       "      <td>0.0394</td>\n",
       "      <td>0.0197</td>\n",
       "      <td>0.0173</td>\n",
       "      <td>-0.0737</td>\n",
       "      <td>0.0275</td>\n",
       "    </tr>\n",
       "  </tbody>\n",
       "</table>\n",
       "</div>"
      ],
      "text/plain": [
       "         Convertible Arbitrage  CTA Global  Distressed Securities  \\\n",
       "date                                                                \n",
       "1997-01                 0.0119      0.0393                 0.0178   \n",
       "1997-02                 0.0123      0.0298                 0.0122   \n",
       "1997-03                 0.0078     -0.0021                -0.0012   \n",
       "1997-04                 0.0086     -0.0170                 0.0030   \n",
       "1997-05                 0.0156     -0.0015                 0.0233   \n",
       "\n",
       "         Emerging Markets  Equity Market Neutral  Event Driven  \\\n",
       "date                                                             \n",
       "1997-01            0.0791                 0.0189        0.0213   \n",
       "1997-02            0.0525                 0.0101        0.0084   \n",
       "1997-03           -0.0120                 0.0016       -0.0023   \n",
       "1997-04            0.0119                 0.0119       -0.0005   \n",
       "1997-05            0.0315                 0.0189        0.0346   \n",
       "\n",
       "         Fixed Income Arbitrage  Global Macro  Long/Short Equity  \\\n",
       "date                                                               \n",
       "1997-01                  0.0191        0.0573             0.0281   \n",
       "1997-02                  0.0122        0.0175            -0.0006   \n",
       "1997-03                  0.0109       -0.0119            -0.0084   \n",
       "1997-04                  0.0130        0.0172             0.0084   \n",
       "1997-05                  0.0118        0.0108             0.0394   \n",
       "\n",
       "         Merger Arbitrage  Relative Value  Short Selling  Funds Of Funds  \n",
       "date                                                                      \n",
       "1997-01            0.0150          0.0180        -0.0166          0.0317  \n",
       "1997-02            0.0034          0.0118         0.0426          0.0106  \n",
       "1997-03            0.0060          0.0010         0.0778         -0.0077  \n",
       "1997-04           -0.0001          0.0122        -0.0129          0.0009  \n",
       "1997-05            0.0197          0.0173        -0.0737          0.0275  "
      ]
     },
     "execution_count": 4,
     "metadata": {},
     "output_type": "execute_result"
    }
   ],
   "source": [
    "# Convert to percentages \n",
    "hfi_data = hfi_data/100\n",
    "hfi_data.index = hfi_data.index.to_period('M')\n",
    "hfi_data.head()"
   ]
  },
  {
   "cell_type": "markdown",
   "execution_count": null,
   "metadata": {},
   "source": [
    "## Semideviation\n",
    "\n",
    "Formula \n",
    "\n",
    "$$\\sigma_{semi} = \\sqrt{\\frac{1}{N}\\sum_{x_{t} \\leq \\bar{x}} (x_{t} - \\bar{x})^{2}}$$ \n",
    "\n",
    "<p style=\"text-align:center;\"> N = number of entries which fall below the mean.</p> "
   ]
  },
  {
   "cell_type": "code",
   "execution_count": 5,
   "metadata": {},
   "outputs": [
    {
     "data": {
      "text/plain": [
       "Short Selling             0.047655\n",
       "Emerging Markets          0.032476\n",
       "CTA Global                0.023290\n",
       "Long/Short Equity         0.019897\n",
       "Distressed Securities     0.017009\n",
       "Event Driven              0.016712\n",
       "Convertible Arbitrage     0.016536\n",
       "Funds Of Funds            0.015536\n",
       "Global Macro              0.014694\n",
       "Fixed Income Arbitrage    0.011517\n",
       "Relative Value            0.011462\n",
       "Merger Arbitrage          0.009600\n",
       "Equity Market Neutral     0.008115\n",
       "dtype: float64"
      ]
     },
     "execution_count": 5,
     "metadata": {},
     "output_type": "execute_result"
    }
   ],
   "source": [
    "# Calculate the standard deviation \n",
    "std = hfi_data.std(ddof=0)\n",
    "std.sort_values(ascending=False)"
   ]
  },
  {
   "cell_type": "code",
   "execution_count": 6,
   "metadata": {},
   "outputs": [
    {
     "data": {
      "text/plain": [
       "Emerging Markets          0.028039\n",
       "Short Selling             0.027283\n",
       "Convertible Arbitrage     0.019540\n",
       "Fixed Income Arbitrage    0.017763\n",
       "Event Driven              0.015429\n",
       "Distressed Securities     0.015185\n",
       "Long/Short Equity         0.014051\n",
       "CTA Global                0.012443\n",
       "Relative Value            0.012244\n",
       "Funds Of Funds            0.012122\n",
       "Equity Market Neutral     0.009566\n",
       "Merger Arbitrage          0.008875\n",
       "Global Macro              0.006579\n",
       "dtype: float64"
      ]
     },
     "execution_count": 6,
     "metadata": {},
     "output_type": "execute_result"
    }
   ],
   "source": [
    "# Calculate the standard deviation for returns which have negative values \n",
    "semi_std = hfi_data[hfi_data<0].std(ddof=0)\n",
    "semi_std.sort_values(ascending=False)"
   ]
  },
  {
   "cell_type": "markdown",
   "execution_count": null,
   "metadata": {},
   "source": [
    "#### Comparison"
   ]
  },
  {
   "cell_type": "code",
   "execution_count": 7,
   "metadata": {},
   "outputs": [
    {
     "data": {
      "text/plain": [
       "<matplotlib.axes._subplots.AxesSubplot at 0x7fa66fd89d50>"
      ]
     },
     "execution_count": 7,
     "metadata": {},
     "output_type": "execute_result"
    },
    {
     "data": {
      "image/png": "[encoded data removed]",
      "text/plain": [
       "<Figure size 432x288 with 1 Axes>"
      ]
     },
     "metadata": {
      "needs_background": "light"
     },
     "output_type": "display_data"
    }
   ],
   "source": [
    "comparison = pd.concat([std, semi_std], axis=1)\n",
    "comparison.columns = [\"Standard Deviation\", \"Semi-Deviation\"]\n",
    "comparison.plot.bar(title=\"Standard Deviation vs Semideviation\")"
   ]
  },
  {
   "cell_type": "markdown",
   "execution_count": null,
   "metadata": {},
   "source": [
    "## Value at Risk (VaR) and Conditional VaR \n",
    "\n",
    "We will try three different methods to calculate the VaR\n",
    "\n",
    "* Historical VaR\n",
    "* Parametric VaR - Gaussian \n",
    "* Modified Cornish-Fisher VaR"
   ]
  },
  {
   "cell_type": "markdown",
   "execution_count": null,
   "metadata": {},
   "source": [
    "### Historic VaR"
   ]
  },
  {
   "cell_type": "code",
   "execution_count": 8,
   "metadata": {},
   "outputs": [
    {
     "data": {
      "text/plain": [
       "array([-0.01576, -0.03169, -0.01966, -0.04247, -0.00814, -0.02535,\n",
       "       -0.00787, -0.01499, -0.02598, -0.01047, -0.01174, -0.06783,\n",
       "       -0.02047])"
      ]
     },
     "execution_count": 8,
     "metadata": {},
     "output_type": "execute_result"
    }
   ],
   "source": [
    "np.percentile(hfi_data, 5, axis=0)"
   ]
  },
  {
   "cell_type": "code",
   "execution_count": 9,
   "metadata": {},
   "outputs": [],
   "source": [
    "def var_historic(r, level=5):\n",
    "    '''\n",
    "    ARG\n",
    "        r: Dataframe with the returns\n",
    "        level: percentile level\n",
    "    Returns \n",
    "        percentile for each column\n",
    "    '''\n",
    "    # Check the type of data\n",
    "    if isinstance(r, pd.DataFrame):\n",
    "        return r.aggregate(var_historic, level=level)\n",
    "    \n",
    "    elif isinstance(r, pd.Series):\n",
    "        return -np.percentile(r, level)\n",
    "    else: \n",
    "        raise TypeError(\"Expected r to be a series or dataframe\")"
   ]
  },
  {
   "cell_type": "code",
   "execution_count": 10,
   "metadata": {},
   "outputs": [
    {
     "data": {
      "text/plain": [
       "Convertible Arbitrage     0.01576\n",
       "CTA Global                0.03169\n",
       "Distressed Securities     0.01966\n",
       "Emerging Markets          0.04247\n",
       "Equity Market Neutral     0.00814\n",
       "Event Driven              0.02535\n",
       "Fixed Income Arbitrage    0.00787\n",
       "Global Macro              0.01499\n",
       "Long/Short Equity         0.02598\n",
       "Merger Arbitrage          0.01047\n",
       "Relative Value            0.01174\n",
       "Short Selling             0.06783\n",
       "Funds Of Funds            0.02047\n",
       "dtype: float64"
      ]
     },
     "execution_count": 10,
     "metadata": {},
     "output_type": "execute_result"
    }
   ],
   "source": [
    "var_historic(hfi_data, level=5) "
   ]
  },
  {
   "cell_type": "markdown",
   "execution_count": null,
   "metadata": {},
   "source": [
    "#### Parametric VaR - Gaussian \n",
    "\n",
    "z-score = $ \\frac{x - \\mu}{\\sigma} $"
   ]
  },
  {
   "cell_type": "code",
   "execution_count": 11,
   "metadata": {},
   "outputs": [],
   "source": [
    "from scipy.stats import norm"
   ]
  },
  {
   "cell_type": "code",
   "execution_count": 12,
   "metadata": {},
   "outputs": [
    {
     "data": {
      "text/plain": [
       "-1.6448536269514729"
      ]
     },
     "execution_count": 12,
     "metadata": {},
     "output_type": "execute_result"
    }
   ],
   "source": [
    "# Compute the z score assuming the data is gaussian \n",
    "# Percent point function\n",
    "z = norm.ppf(0.05)\n",
    "z"
   ]
  },
  {
   "cell_type": "code",
   "execution_count": 13,
   "metadata": {},
   "outputs": [
    {
     "data": {
      "text/plain": [
       "Convertible Arbitrage     0.021691\n",
       "CTA Global                0.034235\n",
       "Distressed Securities     0.021032\n",
       "Emerging Markets          0.047164\n",
       "Equity Market Neutral     0.008850\n",
       "Event Driven              0.021144\n",
       "Fixed Income Arbitrage    0.014579\n",
       "Global Macro              0.018766\n",
       "Long/Short Equity         0.026397\n",
       "Merger Arbitrage          0.010435\n",
       "Relative Value            0.013061\n",
       "Short Selling             0.080086\n",
       "Funds Of Funds            0.021292\n",
       "dtype: float64"
      ]
     },
     "execution_count": 13,
     "metadata": {},
     "output_type": "execute_result"
    }
   ],
   "source": [
    "# Compute the gaussian VaR\n",
    "var_gauss = -(hfi_data.mean() + z*hfi_data.std(ddof=0))\n",
    "var_gauss"
   ]
  },
  {
   "cell_type": "markdown",
   "execution_count": null,
   "metadata": {},
   "source": [
    "#### Cornish Fisher VaR (Non Gaussian)\n",
    "Adjustments made for Skewness and Kurtosis"
   ]
  },
  {
   "cell_type": "code",
   "execution_count": 14,
   "metadata": {},
   "outputs": [],
   "source": [
    "# Make a skewness function \n",
    "def skewness(r):\n",
    "    '''\n",
    "        ARGS:\n",
    "            Series or Dataframe\n",
    "        \n",
    "        RETURNS: \n",
    "            Float or a series data with the calculated skewness\n",
    "    '''\n",
    "    \n",
    "    # Calculate the demeaned returns \n",
    "    demeaned_r = r - r.mean()\n",
    "    \n",
    "    # Use the population standard deviation, ddof=0\n",
    "    sigma_r = r.std(ddof=0)\n",
    "    \n",
    "    # Calculate the expectation of the demeaned returns raised to the third power\n",
    "    exp = (demeaned_r**3).mean()\n",
    "    \n",
    "    # Calcualte the skew\n",
    "    skew = exp/sigma_r**3\n",
    "    return skew"
   ]
  },
  {
   "cell_type": "code",
   "execution_count": 15,
   "metadata": {},
   "outputs": [],
   "source": [
    "# Make a kurtosis function \n",
    "def kurtosis(r):\n",
    "    '''\n",
    "        ARGS:\n",
    "            Series or Dataframe\n",
    "        \n",
    "        RETURNS: \n",
    "            Float or a series data with the calculated kurtosis\n",
    "    '''\n",
    "    \n",
    "    # Calculate the demeaned returns \n",
    "    demeaned_r = r - r.mean()\n",
    "    \n",
    "    # Use the population standard deviation, ddof=0\n",
    "    sigma_r = r.std(ddof=0)\n",
    "    \n",
    "    # Calculate the expectation of the demeaned returns raised to the fourth power\n",
    "    exp = (demeaned_r**4).mean()\n",
    "    \n",
    "    # Calcualte the skew\n",
    "    kurt = exp/sigma_r**4\n",
    "    return kurt"
   ]
  },
  {
   "cell_type": "code",
   "execution_count": 16,
   "metadata": {},
   "outputs": [],
   "source": [
    "# Update z \n",
    "k = kurtosis(hfi_data)\n",
    "s = skewness(hfi_data)\n",
    "z = norm.ppf(0.05)\n",
    "z = (z + (z**2 - 1)*s/6 + (z**3 - 3*z)*(k-3)/24 - (2 * z**3 - 5*z)*(s**2)/36)"
   ]
  },
  {
   "cell_type": "code",
   "execution_count": 17,
   "metadata": {},
   "outputs": [
    {
     "data": {
      "text/plain": [
       "Convertible Arbitrage     0.025166\n",
       "CTA Global                0.033094\n",
       "Distressed Securities     0.025102\n",
       "Emerging Markets          0.053011\n",
       "Equity Market Neutral     0.010734\n",
       "Event Driven              0.025516\n",
       "Fixed Income Arbitrage    0.017881\n",
       "Global Macro              0.013581\n",
       "Long/Short Equity         0.027935\n",
       "Merger Arbitrage          0.012612\n",
       "Relative Value            0.016157\n",
       "Short Selling             0.066157\n",
       "Funds Of Funds            0.021576\n",
       "dtype: float64"
      ]
     },
     "execution_count": 17,
     "metadata": {},
     "output_type": "execute_result"
    }
   ],
   "source": [
    "mcf_var = -(hfi_data.mean() + z*hfi_data.std(ddof=0))\n",
    "mcf_var"
   ]
  },
  {
   "cell_type": "code",
   "execution_count": 18,
   "metadata": {},
   "outputs": [
    {
     "data": {
      "text/html": [
       "<div>\n",
       "<style scoped>\n",
       "    .dataframe tbody tr th:only-of-type {\n",
       "        vertical-align: middle;\n",
       "    }\n",
       "\n",
       "    .dataframe tbody tr th {\n",
       "        vertical-align: top;\n",
       "    }\n",
       "\n",
       "    .dataframe thead th {\n",
       "        text-align: right;\n",
       "    }\n",
       "</style>\n",
       "<table border=\"1\" class=\"dataframe\">\n",
       "  <thead>\n",
       "    <tr style=\"text-align: right;\">\n",
       "      <th></th>\n",
       "      <th>Skewness</th>\n",
       "      <th>Kurtosis</th>\n",
       "    </tr>\n",
       "  </thead>\n",
       "  <tbody>\n",
       "    <tr>\n",
       "      <th>Convertible Arbitrage</th>\n",
       "      <td>-2.639592</td>\n",
       "      <td>23.280834</td>\n",
       "    </tr>\n",
       "    <tr>\n",
       "      <th>CTA Global</th>\n",
       "      <td>0.173699</td>\n",
       "      <td>2.952960</td>\n",
       "    </tr>\n",
       "    <tr>\n",
       "      <th>Distressed Securities</th>\n",
       "      <td>-1.300842</td>\n",
       "      <td>7.889983</td>\n",
       "    </tr>\n",
       "    <tr>\n",
       "      <th>Emerging Markets</th>\n",
       "      <td>-1.167067</td>\n",
       "      <td>9.250788</td>\n",
       "    </tr>\n",
       "    <tr>\n",
       "      <th>Equity Market Neutral</th>\n",
       "      <td>-2.124435</td>\n",
       "      <td>17.218555</td>\n",
       "    </tr>\n",
       "    <tr>\n",
       "      <th>Event Driven</th>\n",
       "      <td>-1.409154</td>\n",
       "      <td>8.035828</td>\n",
       "    </tr>\n",
       "    <tr>\n",
       "      <th>Fixed Income Arbitrage</th>\n",
       "      <td>-3.940320</td>\n",
       "      <td>29.842199</td>\n",
       "    </tr>\n",
       "    <tr>\n",
       "      <th>Global Macro</th>\n",
       "      <td>0.982922</td>\n",
       "      <td>5.741679</td>\n",
       "    </tr>\n",
       "    <tr>\n",
       "      <th>Long/Short Equity</th>\n",
       "      <td>-0.390227</td>\n",
       "      <td>4.523893</td>\n",
       "    </tr>\n",
       "    <tr>\n",
       "      <th>Merger Arbitrage</th>\n",
       "      <td>-1.320083</td>\n",
       "      <td>8.738950</td>\n",
       "    </tr>\n",
       "    <tr>\n",
       "      <th>Relative Value</th>\n",
       "      <td>-1.815470</td>\n",
       "      <td>12.121208</td>\n",
       "    </tr>\n",
       "    <tr>\n",
       "      <th>Short Selling</th>\n",
       "      <td>0.767975</td>\n",
       "      <td>6.117772</td>\n",
       "    </tr>\n",
       "    <tr>\n",
       "      <th>Funds Of Funds</th>\n",
       "      <td>-0.361783</td>\n",
       "      <td>7.070153</td>\n",
       "    </tr>\n",
       "  </tbody>\n",
       "</table>\n",
       "</div>"
      ],
      "text/plain": [
       "                        Skewness   Kurtosis\n",
       "Convertible Arbitrage  -2.639592  23.280834\n",
       "CTA Global              0.173699   2.952960\n",
       "Distressed Securities  -1.300842   7.889983\n",
       "Emerging Markets       -1.167067   9.250788\n",
       "Equity Market Neutral  -2.124435  17.218555\n",
       "Event Driven           -1.409154   8.035828\n",
       "Fixed Income Arbitrage -3.940320  29.842199\n",
       "Global Macro            0.982922   5.741679\n",
       "Long/Short Equity      -0.390227   4.523893\n",
       "Merger Arbitrage       -1.320083   8.738950\n",
       "Relative Value         -1.815470  12.121208\n",
       "Short Selling           0.767975   6.117772\n",
       "Funds Of Funds         -0.361783   7.070153"
      ]
     },
     "execution_count": 18,
     "metadata": {},
     "output_type": "execute_result"
    }
   ],
   "source": [
    "# Calculate the skewness and kurtosis \n",
    "stats = pd.concat([s, k], axis=1)\n",
    "stats.columns = [\"Skewness\", \"Kurtosis\"]\n",
    "stats"
   ]
  },
  {
   "cell_type": "code",
   "execution_count": 19,
   "metadata": {},
   "outputs": [
    {
     "data": {
      "text/html": [
       "<div>\n",
       "<style scoped>\n",
       "    .dataframe tbody tr th:only-of-type {\n",
       "        vertical-align: middle;\n",
       "    }\n",
       "\n",
       "    .dataframe tbody tr th {\n",
       "        vertical-align: top;\n",
       "    }\n",
       "\n",
       "    .dataframe thead th {\n",
       "        text-align: right;\n",
       "    }\n",
       "</style>\n",
       "<table border=\"1\" class=\"dataframe\">\n",
       "  <thead>\n",
       "    <tr style=\"text-align: right;\">\n",
       "      <th></th>\n",
       "      <th>Gaussian</th>\n",
       "      <th>Cornish-Fisher</th>\n",
       "      <th>Historic</th>\n",
       "    </tr>\n",
       "  </thead>\n",
       "  <tbody>\n",
       "    <tr>\n",
       "      <th>Convertible Arbitrage</th>\n",
       "      <td>0.021691</td>\n",
       "      <td>0.025166</td>\n",
       "      <td>0.01576</td>\n",
       "    </tr>\n",
       "    <tr>\n",
       "      <th>CTA Global</th>\n",
       "      <td>0.034235</td>\n",
       "      <td>0.033094</td>\n",
       "      <td>0.03169</td>\n",
       "    </tr>\n",
       "    <tr>\n",
       "      <th>Distressed Securities</th>\n",
       "      <td>0.021032</td>\n",
       "      <td>0.025102</td>\n",
       "      <td>0.01966</td>\n",
       "    </tr>\n",
       "    <tr>\n",
       "      <th>Emerging Markets</th>\n",
       "      <td>0.047164</td>\n",
       "      <td>0.053011</td>\n",
       "      <td>0.04247</td>\n",
       "    </tr>\n",
       "    <tr>\n",
       "      <th>Equity Market Neutral</th>\n",
       "      <td>0.008850</td>\n",
       "      <td>0.010734</td>\n",
       "      <td>0.00814</td>\n",
       "    </tr>\n",
       "    <tr>\n",
       "      <th>Event Driven</th>\n",
       "      <td>0.021144</td>\n",
       "      <td>0.025516</td>\n",
       "      <td>0.02535</td>\n",
       "    </tr>\n",
       "    <tr>\n",
       "      <th>Fixed Income Arbitrage</th>\n",
       "      <td>0.014579</td>\n",
       "      <td>0.017881</td>\n",
       "      <td>0.00787</td>\n",
       "    </tr>\n",
       "    <tr>\n",
       "      <th>Global Macro</th>\n",
       "      <td>0.018766</td>\n",
       "      <td>0.013581</td>\n",
       "      <td>0.01499</td>\n",
       "    </tr>\n",
       "    <tr>\n",
       "      <th>Long/Short Equity</th>\n",
       "      <td>0.026397</td>\n",
       "      <td>0.027935</td>\n",
       "      <td>0.02598</td>\n",
       "    </tr>\n",
       "    <tr>\n",
       "      <th>Merger Arbitrage</th>\n",
       "      <td>0.010435</td>\n",
       "      <td>0.012612</td>\n",
       "      <td>0.01047</td>\n",
       "    </tr>\n",
       "    <tr>\n",
       "      <th>Relative Value</th>\n",
       "      <td>0.013061</td>\n",
       "      <td>0.016157</td>\n",
       "      <td>0.01174</td>\n",
       "    </tr>\n",
       "    <tr>\n",
       "      <th>Short Selling</th>\n",
       "      <td>0.080086</td>\n",
       "      <td>0.066157</td>\n",
       "      <td>0.06783</td>\n",
       "    </tr>\n",
       "    <tr>\n",
       "      <th>Funds Of Funds</th>\n",
       "      <td>0.021292</td>\n",
       "      <td>0.021576</td>\n",
       "      <td>0.02047</td>\n",
       "    </tr>\n",
       "  </tbody>\n",
       "</table>\n",
       "</div>"
      ],
      "text/plain": [
       "                        Gaussian  Cornish-Fisher  Historic\n",
       "Convertible Arbitrage   0.021691        0.025166   0.01576\n",
       "CTA Global              0.034235        0.033094   0.03169\n",
       "Distressed Securities   0.021032        0.025102   0.01966\n",
       "Emerging Markets        0.047164        0.053011   0.04247\n",
       "Equity Market Neutral   0.008850        0.010734   0.00814\n",
       "Event Driven            0.021144        0.025516   0.02535\n",
       "Fixed Income Arbitrage  0.014579        0.017881   0.00787\n",
       "Global Macro            0.018766        0.013581   0.01499\n",
       "Long/Short Equity       0.026397        0.027935   0.02598\n",
       "Merger Arbitrage        0.010435        0.012612   0.01047\n",
       "Relative Value          0.013061        0.016157   0.01174\n",
       "Short Selling           0.080086        0.066157   0.06783\n",
       "Funds Of Funds          0.021292        0.021576   0.02047"
      ]
     },
     "execution_count": 19,
     "metadata": {},
     "output_type": "execute_result"
    }
   ],
   "source": [
    "# Compare all three by plotting \n",
    "results = [var_gauss, mcf_var, var_historic(hfi_data, level=5)]\n",
    "comparison=pd.concat(results, axis=1)\n",
    "comparison.columns = [\"Gaussian\", \"Cornish-Fisher\", \"Historic\"]\n",
    "comparison"
   ]
  },
  {
   "cell_type": "code",
   "execution_count": 20,
   "metadata": {},
   "outputs": [
    {
     "data": {
      "text/plain": [
       "Text(0, 0.5, 'Value at Risk')"
      ]
     },
     "execution_count": 20,
     "metadata": {},
     "output_type": "execute_result"
    },
    {
     "data": {
      "image/png": "[encoded data removed]",
      "text/plain": [
       "<Figure size 432x288 with 1 Axes>"
      ]
     },
     "metadata": {
      "needs_background": "light"
     },
     "output_type": "display_data"
    }
   ],
   "source": [
    "\n",
    "# Plot the comparison DataFrame\n",
    "ax = comparison.plot.bar(title=\"Hedge Fund Indices: VaR\")\n",
    "ax.set_xlabel(\"Indices\")\n",
    "ax.set_ylabel(\"Value at Risk\")"
   ]
  },
  {
   "cell_type": "markdown",
   "execution_count": null,
   "metadata": {},
   "source": [
    "### Conditional VaR or Beyond VaR\n",
    "\n",
    "$$ CVaR = -E(R| R \\leq VaR) $$"
   ]
  },
  {
   "cell_type": "code",
   "execution_count": 21,
   "metadata": {},
   "outputs": [],
   "source": [
    "# Create a cvar function \n",
    "def cvar_historic(r, level=5):\n",
    "    \"\"\"\n",
    "        Computes the conditional VaR of Series or DataFrame\n",
    "    \"\"\"\n",
    "    \n",
    "    if isinstance(r, pd.Series): \n",
    "        is_beyond = r <= -var_historic(r, level=5) \n",
    "        return -r[is_beyond].mean()\n",
    "    elif isinstance(r, pd.DataFrame):\n",
    "        return r.aggregate(cvar_historic, level=level)\n",
    "    else: \n",
    "        raise TypeError(\"Expected a dataframe or series\")"
   ]
  },
  {
   "cell_type": "code",
   "execution_count": 22,
   "metadata": {},
   "outputs": [
    {
     "data": {
      "text/plain": [
       "Convertible Arbitrage     0.036550\n",
       "CTA Global                0.041264\n",
       "Distressed Securities     0.036429\n",
       "Emerging Markets          0.072364\n",
       "Equity Market Neutral     0.016879\n",
       "Event Driven              0.038336\n",
       "Fixed Income Arbitrage    0.028257\n",
       "Global Macro              0.020629\n",
       "Long/Short Equity         0.041943\n",
       "Merger Arbitrage          0.019143\n",
       "Relative Value            0.024650\n",
       "Short Selling             0.096821\n",
       "Funds Of Funds            0.033207\n",
       "dtype: float64"
      ]
     },
     "execution_count": 22,
     "metadata": {},
     "output_type": "execute_result"
    }
   ],
   "source": [
    "cvar_historic(hfi_data, level=5)"
   ]
  },
  {
   "cell_type": "code",
   "execution_count": null,
   "metadata": {},
   "outputs": [],
   "source": []
  }
 ],
 "metadata": {
  "kernelspec": {
   "display_name": "Python 3",
   "language": "python",
   "name": "python3"
  },
  "language_info": {
   "codemirror_mode": {
    "name": "ipython",
    "version": 3
   },
   "file_extension": ".py",
   "mimetype": "text/x-python",
   "name": "python",
   "nbconvert_exporter": "python",
   "pygments_lexer": "ipython3",
   "version": "3.7.6"
  }
 },
 "nbformat": 4,
 "nbformat_minor": 4
}
